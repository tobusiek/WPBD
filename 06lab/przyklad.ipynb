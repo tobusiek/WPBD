{
 "cells": [
  {
   "cell_type": "code",
   "execution_count": 6,
   "metadata": {},
   "outputs": [
    {
     "name": "stdout",
     "output_type": "stream",
     "text": [
      "mapreduce\n",
      "0.0013472659999997916\n"
     ]
    }
   ],
   "source": [
    "import time\n",
    "\n",
    "def znajdz_najdluzsze_slowo(lista_slow):\n",
    "    najdl_slowo = None\n",
    "    najdl_slowo_len = 0\n",
    "\n",
    "    for slowo in lista_slow:\n",
    "        if len(slowo) > najdl_slowo_len:\n",
    "            najdl_slowo = slowo\n",
    "            najdl_slowo_len = len(slowo)\n",
    "    \n",
    "    return najdl_slowo\n",
    "\n",
    "\n",
    "lista_slow = ['hadoop', 'yarn', 'mapreduce']\n",
    "start = time.process_time()\n",
    "print(znajdz_najdluzsze_slowo(lista_slow))\n",
    "print(time.process_time() - start)"
   ]
  },
  {
   "cell_type": "code",
   "execution_count": 7,
   "metadata": {},
   "outputs": [
    {
     "name": "stdout",
     "output_type": "stream",
     "text": [
      "mapreduce\n",
      "0.0009727729999999823\n"
     ]
    }
   ],
   "source": [
    "lista_slow_dluga = lista_slow*1000\n",
    "start = time.process_time()\n",
    "print(znajdz_najdluzsze_slowo(lista_slow_dluga))\n",
    "print(time.process_time() - start)"
   ]
  },
  {
   "cell_type": "code",
   "execution_count": 8,
   "metadata": {},
   "outputs": [
    {
     "data": {
      "text/plain": [
       "4"
      ]
     },
     "execution_count": 8,
     "metadata": {},
     "output_type": "execute_result"
    }
   ],
   "source": [
    "import multiprocessing\n",
    "\n",
    "multiprocessing.cpu_count()"
   ]
  },
  {
   "cell_type": "code",
   "execution_count": 10,
   "metadata": {},
   "outputs": [
    {
     "name": "stdout",
     "output_type": "stream",
     "text": [
      "('mapreduce', 9)\n",
      "0.026866351000000233\n"
     ]
    }
   ],
   "source": [
    "from functools import reduce\n",
    "from multiprocessing import Pool\n",
    "\n",
    "\n",
    "mapper = len\n",
    "\n",
    "\n",
    "def reducer(a, b):\n",
    "    if a[1] > b[1]:\n",
    "        return a\n",
    "    return b\n",
    "\n",
    "\n",
    "def chunkify(dane, liczba_chunks):\n",
    "    return(dane[i::liczba_chunks] for i in range(liczba_chunks))\n",
    "\n",
    "\n",
    "def chunks_mapper(chunk):\n",
    "    mapped_chunk = map(mapper, chunk)\n",
    "    mapped_chunk = zip(chunk, mapped_chunk)\n",
    "    return reduce(reducer, mapped_chunk)\n",
    "\n",
    "\n",
    "start = time.process_time()\n",
    "data_chunks = chunkify(lista_slow_dluga, 4)\n",
    "pool = Pool(4)\n",
    "\n",
    "# krok 1\n",
    "mapped = pool.map(chunks_mapper, data_chunks)\n",
    "\n",
    "#krok 2\n",
    "reduced = reduce(reducer, mapped)\n",
    "print(reduced)\n",
    "print(time.process_time() - start)"
   ]
  },
  {
   "cell_type": "code",
   "execution_count": null,
   "metadata": {},
   "outputs": [],
   "source": []
  }
 ],
 "metadata": {
  "interpreter": {
   "hash": "33d82247624afc0262d1a157077d4fcc9322cf4e7b12f0d5aa5a7412cea8313a"
  },
  "kernelspec": {
   "display_name": "Python 3.9.7 ('base')",
   "language": "python",
   "name": "python3"
  },
  "language_info": {
   "codemirror_mode": {
    "name": "ipython",
    "version": 3
   },
   "file_extension": ".py",
   "mimetype": "text/x-python",
   "name": "python",
   "nbconvert_exporter": "python",
   "pygments_lexer": "ipython3",
   "version": "3.9.7"
  },
  "orig_nbformat": 4
 },
 "nbformat": 4,
 "nbformat_minor": 2
}
