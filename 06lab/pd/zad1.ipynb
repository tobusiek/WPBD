{
 "cells": [
  {
   "cell_type": "code",
   "execution_count": 20,
   "metadata": {},
   "outputs": [
    {
     "name": "stdout",
     "output_type": "stream",
     "text": [
      "{'the': 73, 'of': 37, 'to': 37, 'you': 31, 'a': 31, 'and': 27, 'he': 27, 'in': 23, 'his': 21, 'was': 19, 'frank': 15, 'car': 15, 'it': 13, 'for': 13, 'diamond': 9, 'had': 9, 'said': 9, 'spencer': 7, 'on': 7, 'i': 5, 'young': 5, 'younger': 5, 'as': 3, 'with': 3, 'her': 3, 'police': 3, 'did': 1, \"i'll\": 1, 'hey': 1, \"i've\": 1, 'but': 1, 'have': 1, 'me': 1, 'are': 1, \"i'm\": 1, 'if': 1, 'relax': 1, 'hmmmm': 1, 'my': 1, 'is': 1, 'ok': 1, 'listen': 1, 'so': 1, 'imagine': 1, 'why': 1, 'just': 1, \"that's\": 1, \"you're\": 1, 'peggy': 1, 'oh': 1, 'they': 1, 'what': 1, 'nose': 1, 'would': 1, 'yes': 1, '0013': 1, '*****': 1, '0020': 1, \"we'd\": 1, '2330': 1, 'at': 1, 'after': 1, 'babbington': 1, \"we've\": 1, 'bahamas': 1, '0023': 1, 'babbingtons': 1, 'clive': 1, 'dog': 1, \"don't\": 1, 'duck': 1, '2337': 1, 'england': 1, 'five': 1, 'can': 1, \"frank's\": 1, 'half': 1, 'everyone': 1, \"i'd\": 1, 'inspector': 1, 'inside': 1, 'lane': 1, 'most': 1, 'hello': 1, 'outside': 1, 'ronald': 1, 'now': 1, 'sergeant': 1, 'only': 1, 'plus': 1, 'oil': 1, 'nicola': 1, 'smiling': 1, 'maldives': 1, 'prentis': 1, 'retirement': 1, 'story': 1, 'then': 1, \"she's\": 1, 'she': 1, 'unsurprised': 1, 'tabitha': 1, \"they're\": 1, 'together': 1, 'which': 1, 'spike': 1, 'that': 1, 'this': 1, 'there': 1, 'three': 1, 'while': 1, \"we'll\": 1, 'under': 1, 'about': 1, 'all': 1, 'adapted': 1, 'an': 1, 'afford': 1, 'age': 1, 'advice': 1, 'alarms': 1, 'alarm': 1, 'alone': 1, 'accompanying': 1, 'act': 1, 'am': 1, 'against': 1, 'again': 1, 'admire': 1, 'agreed': 1, 'appreciation': 1, 'always': 1, 'arresting': 1, 'anyway': 1, 'asked': 1, 'arms': 1, 'arrest': 1, 'attempt': 1, 'appeared': 1, 'back': 1, 'apparently': 1, 'barely': 1, 'around': 1, 'away': 1, 'be': 1, 'before': 1, 'behind': 1, 'been': 1, 'boyfriend': 1, 'both': 1, 'burglars': 1, 'by': 1, 'buy': 1, 'calm': 1, 'beautiful': 1, 'case': 1, 'best': 1, 'began': 1, 'anything': 1, 'carefully': 1, 'approval': 1, 'chair': 1, 'clever': 1, 'brought': 1, 'ask': 1, 'arrested': 1, 'breathed': 1, 'cases': 1, 'called': 1, 'baby': 1, 'cold': 1, 'caught': 1, 'champagne': 1, 'charm': 1, 'commit': 1, 'climbed': 1, 'could': 1, 'coast': 1, 'athletic': 1, 'comparison': 1, 'bought': 1, 'come': 1, \"couldn't\": 1, 'came': 1, 'bag': 1, 'course': 1, 'continued': 1, 'carpet': 1, 'catch': 1, 'chance': 1, 'couple': 1, 'criminals': 1, 'blue': 1, 'criminal': 1, 'crime': 1, 'cat': 1, 'closely': 1, 'cruise': 1, 'chin': 1, 'days': 1, 'bride': 1, 'considered': 1, 'coffee': 1, 'deny': 1, 'desk': 1, 'close': 1, 'dangerous': 1, 'button': 1, 'deeply': 1, 'do': 1, 'climb': 1, 'direction': 1, 'down': 1, \"didn't\": 1, 'collection': 1, 'doing': 1, 'drinking': 1, 'concrete': 1, 'dramatic': 1, 'enjoyed': 1, 'company': 1, \"driver's\": 1, 'easy': 1, 'enormous': 1, 'even': 1, 'cars': 1, 'earlier': 1, 'ensure': 1, 'expected': 1, 'fact': 1, 'evidence': 1, 'each': 1, 'excited': 1, 'discreet': 1, 'enough': 1, 'face': 1, 'find': 1, 'final': 1, 'colours': 1, 'expert': 1, 'extra-thick': 1, 'expensive': 1, 'felt': 1, 'confirm': 1, 'fan': 1, 'dreamed': 1, 'family': 1, 'finger': 1, 'finest': 1, 'first': 1, 'from': 1, 'east': 1, 'get': 1, 'garden': 1, 'forty': 1, 'effect': 1, 'game': 1, 'giving': 1, 'explained': 1, 'enthusiastic': 1, 'glad': 1, 'go': 1, 'grey': 1, 'glass': 1, 'fast': 1, 'got': 1, 'gorgeous': 1, 'gold': 1, 'drink': 1, 'fingers': 1, 'eyebrows': 1, 'hand': 1, 'few': 1, 'end': 1, 'handcuffed': 1, 'flashing': 1, 'front': 1, 'handed': 1, 'escape': 1, 'heard': 1, 'exactly': 1, 'heavy': 1, 'held': 1, 'followed': 1, 'hidden': 1, 'give': 1, 'glassmaker': 1, 'help': 1, 'him': 1, 'frowned': 1, 'hard': 1, 'happily': 1, 'given': 1, 'house': 1, 'glory': 1, 'huge': 1, 'hairs': 1, 'into': 1, 'heavily': 1, 'here': 1, 'immediately': 1, 'its': 1, 'information': 1, 'keep': 1, 'involved': 1, 'holiday': 1, 'later': 1, 'identity': 1, 'let': 1, \"it's\": 1, 'horn': 1, 'jewellery': 1, 'lived': 1, 'impressed': 1, 'inquiries': 1, 'knew': 1, 'looked': 1, 'laws': 1, 'luxury': 1, 'know': 1, 'how': 1, 'leaning': 1, 'light': 1, 'man': 1, 'lights': 1, 'local': 1, 'massage': 1, 'large': 1, 'jump': 1, 'long': 1, 'left': 1, 'like': 1, 'hour': 1, 'inevitable': 1, 'leaned': 1, 'midnight': 1, 'magazines': 1, 'invited': 1, 'month': 1, 'lowered': 1, 'looks': 1, 'mind': 1, 'nasty': 1, \"mansion's\": 1, 'make': 1, 'message': 1, 'jacket': 1, 'neither': 1, 'money': 1, 'knelt': 1, 'more': 1, 'meant': 1, 'lifting': 1, 'need': 1, 'new': 1, 'model': 1, 'last': 1, 'mean': 1, 'much': 1, 'made': 1, 'moving': 1, 'nervous': 1, 'legs': 1, 'no': 1, 'newspaper': 1, 'nor': 1, 'not': 1, 'nothing': 1, 'object': 1, 'never': 1, 'mats': 1, 'millionaire': 1, 'moon': 1, 'look': 1, 'officer': 1, 'officers': 1, 'one': 1, 'newborn': 1, 'other': 1, 'normally': 1, 'mansion': 1, 'out': 1, 'methods': 1, 'off': 1, 'met': 1, 'often': 1, 'nodded': 1, 'own': 1, 'panicked': 1, 'perfect': 1, 'over': 1, 'plan': 1, 'our': 1, 'owner': 1, 'or': 1, 'pressed': 1, 'passed': 1, 'protected': 1, 'photo': 1, 'please': 1, 'pulling': 1, 'package': 1, 'passenger': 1, 'pocket': 1, 'pretty': 1, 'quickly': 1, 'picked': 1, 'protection': 1, 'prison': 1, 'problem': 1, 'pushed': 1, 'proud': 1, 'present': 1, 'put': 1, 'ready': 1, 'promoted': 1, 'pub': 1, 'reliable': 1, 'pair': 1, 'radio': 1, 'retire': 1, 'paused': 1, 'raised': 1, 'really': 1, 'rain': 1, 'ring': 1, 'reappeared': 1, 'remembered': 1, 'red-handed': 1, 'replica': 1, 'replied': 1, 'quite': 1, 'rubbed': 1, 'press': 1, 'promotion': 1, 'robbery': 1, 'real': 1, 'rich': 1, 'rumour': 1, 'running': 1, 'round': 1, 'position': 1, 'retired': 1, 'sat': 1, 'search': 1, 'promise': 1, 'road': 1, 'photographs': 1, 'seats': 1, 'question': 1, 'rubber': 1, 'rainy': 1, 'short': 1, 'seat': 1, 'sitting': 1, 'reached': 1, 'searching': 1, 'smiled': 1, 'says': 1, 'secret': 1, 'same': 1, 'rainbow': 1, 'recently': 1, 'red': 1, 'someone': 1, 'showing': 1, 'result': 1, 'slowed': 1, 'speeding': 1, 'second': 1, 'rope': 1, 'shiny': 1, 'round-the-world': 1, 'started': 1, 'soon': 1, 'sighing': 1, 'six': 1, 'stood': 1, 'scene': 1, 'spoke': 1, 'shouted': 1, 'smile': 1, 'satisfied': 1, 'suitably': 1, 'smooth': 1, 'steal': 1, 'ropes': 1, 'shone': 1, 'strange': 1, 'something': 1, 'take': 1, 'sweat': 1, 'some': 1, 'similar': 1, 'sound': 1, 'seem': 1, 'teeth': 1, 'stared': 1, 'station': 1, 'sigh': 1, 'saw': 1, 'slowly': 1, 'sped': 1, 'solve': 1, 'sophisticated': 1, 'stop': 1, 'stone': 1, 'steady': 1, 'seen': 1, 'suggesting': 1, 'tail': 1, 'sports': 1, 'shining': 1, 'strong': 1, 'sure': 1, 'still': 1, 'sighed': 1, 'than': 1, 'terrible': 1, 'table': 1, 'team': 1, 'small': 1, 'tall': 1, 'stream': 1, 'sorry': 1, 'switched': 1, 'talking': 1, 'spot': 1, 'stomach': 1, 'stroke': 1, 'system': 1, 'them': 1, 'thinking': 1, 'threw': 1, 'thieves': 1, 'their': 1, 'ticket': 1, 'thing': 1, 'think': 1, 'thought': 1, 'time': 1, 'too': 1, 'tough': 1, 'traffic': 1, 'took': 1, 'trouser': 1, 'turned': 1, 'two': 1, 'up': 1, 'trickiest': 1, 'tricking': 1, 'walk': 1, 'underneath': 1, 'waited': 1, 'understood': 1, 'want': 1, 'walls': 1, 'thoroughly': 1, 'things': 1, 'watched': 1, 'thoughtfully': 1, 'times': 1, 'were': 1, 'we': 1, 'where': 1, 'way': 1, 'wife': 1, 'weeks': 1, 'who': 1, 'woman': 1, 'work': 1, \"what's\": 1, 'years': 1, 'window': 1, 'told': 1, 'worked': 1, 'woods': 1, 'towards': 1, 'travel': 1, 'written': 1, 'true': 1, 'turning': 1, 'your': 1, 'uncomfortable': 1, 'wall': 1, \"you've\": 1, 'wonderful': 1, \"wouldn't\": 1, 'white': 1, 'wrote': 1, 'will': 1, 'through': 1, 'top': 1, 'triumph': 1, 'very': 1, 'went': 1, 'when': 1}\n",
      "0.08949857500000036\n"
     ]
    }
   ],
   "source": [
    "from audioop import reverse\n",
    "import time\n",
    "from functools import reduce\n",
    "from multiprocessing import Pool, cpu_count, Manager\n",
    "\n",
    "\n",
    "n_cpus = cpu_count()\n",
    "# word_dict = dict()\n",
    "\n",
    "\n",
    "def clean_word(word):\n",
    "    word = word.lower()\n",
    "    word = word.replace(',', '')\n",
    "    word = word.replace('.', '')\n",
    "    word = word.replace('\\\\n', '')\n",
    "    word = word.replace('\\\\t', '')\n",
    "    word = word.replace('!', '')\n",
    "    word = word.replace('?', '')\n",
    "    if word.startswith('\\''):\n",
    "        word = word[1:]\n",
    "    if word.endswith('\\''):\n",
    "        word = word[:-1]\n",
    "    return word\n",
    "\n",
    "\n",
    "def mapper(word):\n",
    "    global word_dict\n",
    "\n",
    "    if word not in word_dict:\n",
    "        word_dict[word] = 1\n",
    "    \n",
    "    return word, 1\n",
    "\n",
    "\n",
    "def reducer(a, b):\n",
    "    global word_dict\n",
    "\n",
    "    if a[0] == b[0]:\n",
    "        count = a[1] + b[1]\n",
    "        word_dict[a[0]] = word_dict[a[0]] + count\n",
    "        return a\n",
    "    return b\n",
    "\n",
    "\n",
    "def chunkify(data, n_chunks):\n",
    "    data = data.split()\n",
    "    data = sorted(data)\n",
    "    return (data[i:len(data):n_chunks] for i in range(n_chunks))\n",
    "\n",
    "\n",
    "def chunks_mapper(chunk):\n",
    "    global word_dict\n",
    "\n",
    "    chunk = map(clean_word, chunk)\n",
    "    mapped_chunk = map(mapper, chunk)\n",
    "    return reduce(reducer, mapped_chunk)\n",
    "    \n",
    "\n",
    "with open('./opowiesc.txt', 'r') as f:\n",
    "    text = f.read()\n",
    "    text = text.split()\n",
    "    text = [word.replace('–', ' ') if word.count('–') > 0 else word for word in text]\n",
    "    text = \" \".join(text)\n",
    "\n",
    "start = time.process_time()\n",
    "data_chunks = chunkify(text, n_cpus)\n",
    "\n",
    "\n",
    "manager = Manager()\n",
    "word_dict = manager.dict()\n",
    "\n",
    "with Pool(processes=n_cpus) as pool:\n",
    "    mapped = pool.map(chunks_mapper, data_chunks)\n",
    "    reduced = reduce(reducer, mapped)\n",
    "\n",
    "print(dict(sorted(word_dict.items(), key=lambda d:d[1], reverse=True)))\n",
    "print(time.process_time() - start)"
   ]
  }
 ],
 "metadata": {
  "interpreter": {
   "hash": "33d82247624afc0262d1a157077d4fcc9322cf4e7b12f0d5aa5a7412cea8313a"
  },
  "kernelspec": {
   "display_name": "Python 3.9.7 ('base')",
   "language": "python",
   "name": "python3"
  },
  "language_info": {
   "codemirror_mode": {
    "name": "ipython",
    "version": 3
   },
   "file_extension": ".py",
   "mimetype": "text/x-python",
   "name": "python",
   "nbconvert_exporter": "python",
   "pygments_lexer": "ipython3",
   "version": "3.9.7"
  },
  "orig_nbformat": 4
 },
 "nbformat": 4,
 "nbformat_minor": 2
}
