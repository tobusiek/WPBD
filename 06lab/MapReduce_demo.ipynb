{
  "cells": [
    {
      "cell_type": "code",
      "execution_count": 1,
      "metadata": {
        "colab": {
          "base_uri": "https://localhost:8080/"
        },
        "id": "Zp69d0PpwKYL",
        "outputId": "1e438728-f36d-4a9b-eed6-9dffdd827082"
      },
      "outputs": [
        {
          "name": "stdout",
          "output_type": "stream",
          "text": [
            "mapreduce\n",
            "0.00023437000000003927\n"
          ]
        }
      ],
      "source": [
        "import time\n",
        "\n",
        "def znajdz_najdluzsze_slowo(lista_slow):\n",
        "  naj_dl_slowo = None\n",
        "  naj_dl_slowo_len = 0\n",
        "  for slowo in lista_slow:\n",
        "    if len(slowo) > naj_dl_slowo_len:\n",
        "      naj_dl_slowo = slowo\n",
        "      naj_dl_slowo_len = len(slowo)\n",
        "  return naj_dl_slowo\n",
        "\n",
        "\n",
        "lista_slow = ['hadoop', 'yarn', 'mapreduce']\n",
        "start = time.process_time()\n",
        "print(znajdz_najdluzsze_slowo(lista_slow))\n",
        "print(time.process_time() - start)"
      ]
    },
    {
      "cell_type": "code",
      "execution_count": 2,
      "metadata": {
        "colab": {
          "base_uri": "https://localhost:8080/"
        },
        "id": "h8XZ95OfxkaS",
        "outputId": "4feebbd4-1e0c-43bf-b088-7e9bfb4600b4"
      },
      "outputs": [
        {
          "name": "stdout",
          "output_type": "stream",
          "text": [
            "mapreduce\n",
            "0.000809567000000122\n"
          ]
        }
      ],
      "source": [
        "lista_slow_dluga = lista_slow*10\n",
        "start = time.process_time()\n",
        "print(znajdz_najdluzsze_slowo(lista_slow_dluga))\n",
        "print(time.process_time() - start)"
      ]
    },
    {
      "cell_type": "code",
      "execution_count": 3,
      "metadata": {
        "colab": {
          "base_uri": "https://localhost:8080/"
        },
        "id": "CGJ1RUzWyhqK",
        "outputId": "40dd15c2-378a-44ab-89fa-8fc151c371d3"
      },
      "outputs": [
        {
          "data": {
            "text/plain": [
              "8"
            ]
          },
          "execution_count": 3,
          "metadata": {},
          "output_type": "execute_result"
        }
      ],
      "source": [
        "import multiprocessing\n",
        "multiprocessing.cpu_count()"
      ]
    },
    {
      "cell_type": "code",
      "execution_count": 12,
      "metadata": {
        "colab": {
          "base_uri": "https://localhost:8080/"
        },
        "id": "xOO5lf48y4HL",
        "outputId": "d0dbf416-b093-45d7-c629-3214de076b76"
      },
      "outputs": [
        {
          "data": {
            "text/plain": [
              "[6, 4, 9, 7, 5, 10]"
            ]
          },
          "execution_count": 12,
          "metadata": {},
          "output_type": "execute_result"
        }
      ],
      "source": [
        "dane = ['hadoop', 'yarn', 'mapreduce', 'hadoop2', 'yarn2', 'mapreduce2']\n",
        "# map zwraca iterator, który możemy przerobić na listę, aby podejrzeć\n",
        "list(map(len, dane))"
      ]
    },
    {
      "cell_type": "code",
      "execution_count": 11,
      "metadata": {
        "id": "UMKUfsCUx2nC"
      },
      "outputs": [
        {
          "name": "stdout",
          "output_type": "stream",
          "text": [
            "('round-the-world,', 16)\n",
            "0.020023502999999998\n"
          ]
        }
      ],
      "source": [
        "from functools import reduce\n",
        "from multiprocessing import Pool\n",
        "\n",
        "# reducer dostaje dwie krotki, z których pod indeksem 1 mamy długość słowa\n",
        "# zwraca krotkę, która zawiera większą długość \n",
        "def reducer(krotka_a, krotka_b):\n",
        "  if krotka_a[1] > krotka_b[1]:\n",
        "    return krotka_a\n",
        "  return krotka_b\n",
        "\n",
        "# chcemy podzielić nasze dane na mniejsze porcje równej wielkości\n",
        "def chunkify(dane, liczba_chunks):\n",
        "  # slicing naszych danych - od indeksu i do końca, ale co 2 słowo (liczba_chunks to nasz step value dla slicingu)\n",
        "  return(dane[i::liczba_chunks] for i in range(liczba_chunks))\n",
        "\n",
        "# mapujemy nasze dane w 2 krokach\n",
        "def chunks_mapper(chunk):\n",
        "  # funckja map bierze jako argument nazwę funkcji oraz obiekt, po którym możemy iterować (np. lista, krotka, etc.)\n",
        "  # i zwraca iterator, gdybyśmy wydrukowali ten iterator (najpierw trzeba go zamienić na listę list(mapped_chunk))\n",
        "  # to zwróci nam listę długości słów w naszej porcji danych\n",
        "  mapped_chunk = map(len, chunk)\n",
        "  # print(list(mapped_chunk))\n",
        "  # print(list(mapped_chunk))\n",
        "  # drugi krok łączy w krotki odpowiednio słowa z porcji danych i ich długość funkcją zip\n",
        "  mapped_chunk = zip(chunk, mapped_chunk)\n",
        "  # print(list(mapped_chunk))\n",
        "  # na koniec zwracamy zredukowaną porcję danych do jednej krotki z najdłuższym wyrazem i jego długością\n",
        "  return reduce(reducer, mapped_chunk)\n",
        "\n",
        "\n",
        "\n",
        "start = time.process_time()\n",
        "# data_chunks = chunkify(lista_slow_dluga, 2)\n",
        "data_chunks = chunkify(open('./pd/opowiesc.txt').read().split(), 2)\n",
        "pool = Pool(2)\n",
        "\n",
        "# krok 1\n",
        "# w tym kroku dostaniemy iterator, który po zamianie na listę zwróci listę krotek z najdłuższymi słowami i idpowiadającymi im długościami\n",
        "mapped = pool.map(chunks_mapper, data_chunks)\n",
        "# krok 2\n",
        "# w tym kroku redukujemy nasze krotki -> zwracamy tylko jedną, która ma najdłuższy wyraz\n",
        "reduced = reduce(reducer, mapped)\n",
        "\n",
        "print(reduced)\n",
        "print(time.process_time() - start)"
      ]
    },
    {
      "cell_type": "code",
      "execution_count": 6,
      "metadata": {
        "colab": {
          "base_uri": "https://localhost:8080/"
        },
        "id": "9THqf74DzzRR",
        "outputId": "02f50cf9-350d-48a6-91c5-2bc369391f1b"
      },
      "outputs": [
        {
          "data": {
            "text/plain": [
              "[('mapreduce', 9), ('mapreduce', 9)]"
            ]
          },
          "execution_count": 6,
          "metadata": {},
          "output_type": "execute_result"
        }
      ],
      "source": [
        "data_chunks = chunkify(lista_slow_dluga, 2)\n",
        "list(map(chunks_mapper, data_chunks))"
      ]
    },
    {
      "cell_type": "code",
      "execution_count": null,
      "metadata": {},
      "outputs": [],
      "source": []
    }
  ],
  "metadata": {
    "colab": {
      "collapsed_sections": [],
      "name": "MapReduce demo.ipynb",
      "provenance": []
    },
    "kernelspec": {
      "display_name": "Python 3",
      "name": "python3"
    },
    "language_info": {
      "codemirror_mode": {
        "name": "ipython",
        "version": 3
      },
      "file_extension": ".py",
      "mimetype": "text/x-python",
      "name": "python",
      "nbconvert_exporter": "python",
      "pygments_lexer": "ipython3",
      "version": "3.9.7"
    }
  },
  "nbformat": 4,
  "nbformat_minor": 0
}
